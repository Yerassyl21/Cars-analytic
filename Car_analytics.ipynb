{
  "nbformat": 4,
  "nbformat_minor": 0,
  "metadata": {
    "colab": {
      "name": "Car_analytics.ipynb",
      "provenance": [],
      "collapsed_sections": []
    },
    "kernelspec": {
      "name": "python3",
      "display_name": "Python 3"
    },
    "language_info": {
      "name": "python"
    }
  },
  "cells": [
    {
      "cell_type": "code",
      "metadata": {
        "colab": {
          "base_uri": "https://localhost:8080/"
        },
        "id": "TkjYBk8zfzL7",
        "outputId": "dc21addb-5169-48a5-f17c-36a12242b815"
      },
      "source": [
        "from google.colab import drive\n",
        "drive.mount('/content/drive/')"
      ],
      "execution_count": null,
      "outputs": [
        {
          "output_type": "stream",
          "text": [
            "Mounted at /content/drive/\n"
          ],
          "name": "stdout"
        }
      ]
    },
    {
      "cell_type": "code",
      "metadata": {
        "id": "7LdmGqzuE14e"
      },
      "source": [
        "# required libs\n",
        "from bs4 import BeautifulSoup\n",
        "import requests  \n",
        "import pandas as pd\n",
        "import numpy as np\n",
        "import glob\n",
        "import csv "
      ],
      "execution_count": null,
      "outputs": []
    },
    {
      "cell_type": "markdown",
      "metadata": {
        "id": "x6wDPgKmRnG8"
      },
      "source": [
        "# Data parsing"
      ]
    },
    {
      "cell_type": "code",
      "metadata": {
        "id": "DTb7_F5RGmn_"
      },
      "source": [
        "# function write urls of cars from first 50 pages by years\n",
        "def make_car_links(year):\n",
        "    car_links = []\n",
        "    url = f'https://auto.ru/cars/{year}-year/used/?page='\n",
        "    f = open(f'/content/drive/MyDrive/Project/car_links_{year}.txt', 'w')\n",
        "    for i in range(1,50):  # pages \n",
        "        url_i = url + str(i)\n",
        "        response = requests.get(url_i)\n",
        "        response.encoding ='utf8'\n",
        "        page = BeautifulSoup(response.text, 'html.parser')\n",
        "        links = page.find_all('a', class_='Link ListingItemTitle-module__link')\n",
        "        for link in links:\n",
        "            f.write(link.get(\"href\")+'\\n')\n",
        "    f.close()\n",
        "    \n",
        "\n",
        "for i in range(2016,2021):\n",
        "    make_car_links(i)"
      ],
      "execution_count": null,
      "outputs": []
    },
    {
      "cell_type": "code",
      "metadata": {
        "id": "ngx1rn91GqS0",
        "colab": {
          "base_uri": "https://localhost:8080/"
        },
        "outputId": "3a07fe48-87b4-4eb4-c243-8aa5f7be715b"
      },
      "source": [
        "# function return car data from given url\n",
        "def car_info(url):\n",
        "    response = requests.get(url)    \n",
        "    response.encoding ='utf8' \n",
        "    page = BeautifulSoup(response.text, 'html.parser')\n",
        "    brand = url.split('/')[6]\n",
        "    model = url.split('/')[7]\n",
        "    year = page.find('li', class_= 'CardInfoRow CardInfoRow_year').find('a','Link Link_color_black').text\n",
        "    mileage =  page.find('li', class_= 'CardInfoRow CardInfoRow_kmAge').find_all('span','CardInfoRow__cell')[1].text.replace(u'\\xa0', u'')\n",
        "    body_type = page.find('li', class_= 'CardInfoRow CardInfoRow_bodytype').find('a','Link Link_color_black').text\n",
        "    color = page.find('li', class_= 'CardInfoRow CardInfoRow_color').find_all('span','CardInfoRow__cell')[1].text\n",
        "    engine_volume = page.find('li', class_= 'CardInfoRow CardInfoRow_engine').find('div').text.replace(u'\\xa0', u'').split('/')[0].strip()\n",
        "    horsepower = page.find('li', class_= 'CardInfoRow CardInfoRow_engine').find('div').text.replace(u'\\xa0', u'').split('/')[1].strip()\n",
        "    flue_type = page.find('li', class_= 'CardInfoRow CardInfoRow_engine').find('div').text.replace(u'\\xa0', u'').split('/')[2].strip()\n",
        "    tax =  page.find('li', class_= 'CardInfoRow CardInfoRow_transportTax').find_all('span','CardInfoRow__cell')[1].text.replace(u'\\xa0', u'')\n",
        "    transmission =  page.find('li', class_= 'CardInfoRow CardInfoRow_transmission').find_all('span','CardInfoRow__cell')[1].text\n",
        "    drive = page.find('li', class_= 'CardInfoRow CardInfoRow_drive').find_all('span','CardInfoRow__cell')[1].text\n",
        "    whell = page.find('li', class_= 'CardInfoRow CardInfoRow_wheel').find_all('span','CardInfoRow__cell')[1].text\n",
        "    state = page.find('li', class_= 'CardInfoRow CardInfoRow_state').find_all('span','CardInfoRow__cell')[1].text\n",
        "    owners = page.find('li', class_= 'CardInfoRow CardInfoRow_ownersCount').find_all('span','CardInfoRow__cell')[1].text[0]\n",
        "    pts = page.find('li', class_= 'CardInfoRow CardInfoRow_pts').find_all('span','CardInfoRow__cell')[1].text\n",
        "    customs = page.find('li', class_= 'CardInfoRow CardInfoRow_customs').find_all('span','CardInfoRow__cell')[1].text\n",
        "    price = page.find('span', class_='OfferPriceCaption__price').text.replace(u'\\xa0', u'')\n",
        "    return url, brand, model, year, mileage, body_type, color, engine_volume, horsepower, flue_type, tax, transmission, drive, whell, state, owners, pts, customs, price\n",
        "\n",
        "\n",
        "# for each url from txt file used car_info function\n",
        "# in result if car is actualy not saled then will stored in file \n",
        "# else url will be printed\n",
        "read_files = glob.glob(\"/content/drive/MyDrive/Project/*.txt\")\n",
        "for file in read_files:\n",
        "    f = open(file)\n",
        "    out_f = open(f'car_info_{file[-8:-4]}.csv', 'w')\n",
        "    with out_f:\n",
        "        writer = csv.writer(out_f)\n",
        "        for line in f:\n",
        "            try:\n",
        "                writer.writerow(car_info(line[:-1]))\n",
        "            except:\n",
        "                print(line)"
      ],
      "execution_count": null,
      "outputs": [
        {
          "output_type": "stream",
          "text": [
            "https://auto.ru/cars/used/sale/porsche/boxster/1103246041-3d2c50dd/\n",
            "\n",
            "https://auto.ru/cars/used/sale/uaz/pickup/1102837872-3fcdb61e/\n",
            "\n",
            "https://auto.ru/cars/used/sale/bmw/x6/1101942782-59f30616/\n",
            "\n",
            "https://auto.ru/cars/used/sale/lexus/rx/1103334648-c1a2a51e/\n",
            "\n",
            "https://auto.ru/cars/used/sale/audi/q7/1101944934-9d47e94c/\n",
            "\n",
            "https://auto.ru/cars/used/sale/toyota/land_cruiser_prado/1101810234-7c78120a/\n",
            "\n",
            "https://auto.ru/cars/used/sale/lexus/nx/1103354558-c60c7fcc/\n",
            "\n",
            "https://auto.ru/cars/used/sale/mercedes/c_klasse/1101970764-5b8f4619/\n",
            "\n",
            "https://auto.ru/cars/used/sale/hyundai/h_1_starex/1103343641-5b5da33d/\n",
            "\n",
            "https://auto.ru/cars/used/sale/toyota/rav_4/1103312465-ac4d088f/\n",
            "\n",
            "https://auto.ru/cars/used/sale/uaz/pickup/1103355693-962ef8cc/\n",
            "\n",
            "https://auto.ru/cars/used/sale/kia/sportage/1103337517-b67ef59b/\n",
            "\n",
            "https://auto.ru/cars/used/sale/nissan/x_trail/1103286116-8827cd00/\n",
            "\n",
            "https://auto.ru/cars/used/sale/mazda/6/1103281039-03c0c426/\n",
            "\n",
            "https://auto.ru/cars/used/sale/ford/mondeo/1101952178-64de7d93/\n",
            "\n",
            "https://auto.ru/cars/used/sale/kia/cerato/1103348517-21d5dbb6/\n",
            "\n",
            "https://auto.ru/cars/used/sale/chevrolet/niva/1103219550-df611100/\n",
            "\n",
            "https://auto.ru/cars/used/sale/nissan/leaf/1102811999-97fb5248/\n",
            "\n",
            "https://auto.ru/cars/used/sale/hyundai/i40/1101698464-1519e764/\n",
            "\n",
            "https://auto.ru/cars/used/sale/chevrolet/silverado/1103147497-b1a1a449/\n",
            "\n",
            "https://auto.ru/cars/used/sale/skoda/octavia/1101748704-9b375723/\n",
            "\n",
            "https://auto.ru/cars/used/sale/kia/rio/1103309673-d71c53c7/\n",
            "\n",
            "https://auto.ru/cars/used/sale/renault/duster/1102508231-7e93880c/\n",
            "\n",
            "https://auto.ru/cars/used/sale/nissan/terrano/1101888475-2bd1d697/\n",
            "\n",
            "https://auto.ru/cars/used/sale/volkswagen/polo/1102247746-08ff5ff7/\n",
            "\n",
            "https://auto.ru/cars/used/sale/hyundai/solaris/1103268638-ee987509/\n",
            "\n",
            "https://auto.ru/cars/used/sale/hyundai/solaris/1101835098-c29d447a/\n",
            "\n",
            "https://auto.ru/cars/used/sale/hyundai/solaris/1102268998-729ec387/\n",
            "\n",
            "https://auto.ru/cars/used/sale/vaz/xray/1103290332-ca53e7bb/\n",
            "\n",
            "https://auto.ru/cars/used/sale/vaz/vesta/1103283124-85eadb35/\n",
            "\n",
            "https://auto.ru/cars/used/sale/volkswagen/amarok/1103218476-0f96c438/\n",
            "\n",
            "https://auto.ru/cars/used/sale/nissan/almera/1103236192-c4f1352d/\n",
            "\n",
            "https://auto.ru/cars/used/sale/volkswagen/amarok/1103254845-5ece8931/\n",
            "\n",
            "https://auto.ru/cars/used/sale/vaz/granta/1103346011-39e8d1c2/\n",
            "\n",
            "https://auto.ru/cars/used/sale/toyota/land_cruiser/1103340070-38a361ce/\n",
            "\n",
            "https://auto.ru/cars/used/sale/vaz/vesta/1101966456-2e9821cc/\n",
            "\n",
            "https://auto.ru/cars/used/sale/toyota/hilux/1103338200-d61000d1/\n",
            "\n",
            "https://auto.ru/cars/used/sale/toyota/hilux/1103338200-d61000d1/\n",
            "\n",
            "https://auto.ru/cars/used/sale/uaz/pickup/1102710803-23d609da/\n",
            "\n",
            "https://auto.ru/cars/used/sale/vaz/granta/1101741545-ab59e044/\n",
            "\n",
            "https://auto.ru/cars/used/sale/vaz/2170/1103210856-112c0e61/\n",
            "\n",
            "https://auto.ru/cars/used/sale/bmw/2grandtourer/1101960380-7dda6ea7/\n",
            "\n",
            "https://auto.ru/cars/used/sale/vaz/largus/1102963212-a01bc49f/\n",
            "\n",
            "https://auto.ru/cars/used/sale/volkswagen/amarok/1102471502-57e67df5/\n",
            "\n",
            "https://auto.ru/cars/used/sale/chevrolet/malibu/1103364188-91dfa936/\n",
            "\n",
            "https://auto.ru/cars/used/sale/jaguar/xe/1102623708-d5b95023/\n",
            "\n",
            "https://auto.ru/cars/used/sale/vaz/vesta/1103321523-20adad72/\n",
            "\n",
            "https://auto.ru/cars/used/sale/hyundai/creta/1102499018-27323568/\n",
            "\n",
            "https://auto.ru/cars/used/sale/mercedes/c_klasse/1103364166-19ee6614/\n",
            "\n",
            "https://auto.ru/cars/used/sale/kia/sportage/1103176938-4ee094fc/\n",
            "\n",
            "https://auto.ru/cars/used/sale/jaguar/xe/1102308416-e0baba4c/\n",
            "\n",
            "https://auto.ru/cars/used/sale/volkswagen/caravelle/1102201184-e5872dd2/\n",
            "\n",
            "https://auto.ru/cars/used/sale/chevrolet/volt/1103364104-e575ea12/\n",
            "\n",
            "https://auto.ru/cars/used/sale/toyota/hilux/1103310487-8c91ad2b/\n",
            "\n",
            "https://auto.ru/cars/used/sale/vaz/largus/1103312003-54aa2c27/\n",
            "\n",
            "https://auto.ru/cars/used/sale/skoda/rapid/1103311001-849afa4b/\n",
            "\n",
            "https://auto.ru/cars/used/sale/uaz/pickup/1102230363-f85c0a07/\n",
            "\n",
            "https://auto.ru/cars/used/sale/volkswagen/amarok/1103046858-ef40b546/\n",
            "\n",
            "https://auto.ru/cars/used/sale/kia/rio/1103306575-31acd8d4/\n",
            "\n",
            "https://auto.ru/cars/used/sale/skoda/octavia/1103363852-2397b4e0/\n",
            "\n",
            "https://auto.ru/cars/used/sale/lamborghini/huracan/1103128720-5821a882/\n",
            "\n",
            "https://auto.ru/cars/used/sale/mercedes/g_klasse_amg/1101867883-503838c1/\n",
            "\n",
            "https://auto.ru/cars/used/sale/mercedes/c_klasse_amg/1102910796-0d9eb003/\n",
            "\n",
            "https://auto.ru/cars/used/sale/mitsubishi/l200/1103265593-2edd4408/\n",
            "\n",
            "https://auto.ru/cars/used/sale/bmw/x5/1102893007-563c41e9/\n",
            "\n",
            "https://auto.ru/cars/used/sale/tesla/model_x/1101733772-58ce22b9/\n",
            "\n",
            "https://auto.ru/cars/used/sale/volvo/xc90/1102292135-4726d54c/\n",
            "\n",
            "https://auto.ru/cars/used/sale/mercedes/gle_klasse/1101863042-1fac7ed9/\n",
            "\n",
            "https://auto.ru/cars/used/sale/kia/picanto/1103362694-94feb87e/\n",
            "\n",
            "https://auto.ru/cars/used/sale/vaz/xray/1103362676-c8550d35/\n",
            "\n",
            "https://auto.ru/cars/used/sale/dodge/ram/1103361630-9ddcf2bf/\n",
            "\n",
            "https://auto.ru/cars/used/sale/infiniti/qx70/1102998795-e7f7d46e/\n",
            "\n",
            "https://auto.ru/cars/used/sale/kia/rio/1102542599-e47e7f90/\n",
            "\n",
            "https://auto.ru/cars/used/sale/volkswagen/tiguan/1103359991-a422ff19/\n",
            "\n",
            "https://auto.ru/cars/used/sale/mitsubishi/pajero_sport/1103235633-70698c67/\n",
            "\n",
            "https://auto.ru/cars/used/sale/skoda/octavia/1103360886-c122957f/\n",
            "\n",
            "https://auto.ru/cars/used/sale/mercedes/c_klasse/1103318250-fb49f2e9/\n",
            "\n",
            "https://auto.ru/cars/used/sale/toyota/rav_4/1103356060-7bd32081/\n",
            "\n",
            "https://auto.ru/cars/used/sale/bmw/x1/1101801566-d5c2be39/\n",
            "\n",
            "https://auto.ru/cars/used/sale/hyundai/creta/1103359992-ec53db04/\n",
            "\n",
            "https://auto.ru/cars/used/sale/toyota/hilux/1103360557-26a9a8cf/\n",
            "\n",
            "https://auto.ru/cars/used/sale/mazda/cx_5/1101856796-ea40d6ab/\n",
            "\n",
            "https://auto.ru/cars/used/sale/vaz/vesta/1103249406-e50da9b1/\n",
            "\n",
            "https://auto.ru/cars/used/sale/nissan/x_trail/1103229721-54e484e7/\n",
            "\n",
            "https://auto.ru/cars/used/sale/ford/kuga/1101878742-e06e3b70/\n",
            "\n",
            "https://auto.ru/cars/used/sale/nissan/qashqai/1101872160-4ed7151e/\n",
            "\n",
            "https://auto.ru/cars/used/sale/suzuki/sx4/1101755256-b5803167/\n",
            "\n",
            "https://auto.ru/cars/used/sale/vaz/granta/1103354784-ed42d0a1/\n",
            "\n",
            "https://auto.ru/cars/used/sale/skoda/octavia/1101900325-c0c46494/\n",
            "\n",
            "https://auto.ru/cars/used/sale/kia/ceed/1103124686-3444abb8/\n",
            "\n",
            "https://auto.ru/cars/used/sale/kia/cerato/1101827090-e9c94616/\n",
            "\n",
            "https://auto.ru/cars/used/sale/kia/ceed/1103280168-60941d1f/\n",
            "\n",
            "https://auto.ru/cars/used/sale/kia/rio/1101887319-0dafe7af/\n",
            "\n",
            "https://auto.ru/cars/used/sale/kia/rio/1101794805-1fccd287/\n",
            "\n",
            "https://auto.ru/cars/used/sale/toyota/hilux/1103346134-a0a61fd6/\n",
            "\n",
            "https://auto.ru/cars/used/sale/volkswagen/polo/1101874344-e149d237/\n",
            "\n",
            "https://auto.ru/cars/used/sale/kia/rio/1101863919-8d794c1d/\n",
            "\n",
            "https://auto.ru/cars/used/sale/uaz/pickup/1102325718-37288a75/\n",
            "\n",
            "https://auto.ru/cars/used/sale/mitsubishi/l200/1101342885-0a0ad4a2/\n",
            "\n",
            "https://auto.ru/cars/used/sale/citroen/jumpy/1103161652-7b5de5af/\n",
            "\n",
            "https://auto.ru/cars/used/sale/volkswagen/polo/1101839986-c27db752/\n",
            "\n",
            "https://auto.ru/cars/used/sale/volkswagen/polo/1101742426-8ed71dc7/\n",
            "\n",
            "https://auto.ru/cars/used/sale/vaz/largus/1102367935-9c9593ed/\n",
            "\n",
            "https://auto.ru/cars/used/sale/vaz/largus/1101784069-6e4fcf01/\n",
            "\n",
            "https://auto.ru/cars/used/sale/nissan/terrano/1102643941-2fec73b3/\n",
            "\n",
            "https://auto.ru/cars/used/sale/renault/logan/1101850169-5f6e1ece/\n",
            "\n",
            "https://auto.ru/cars/used/sale/mitsubishi/l200/1102919785-8e2d0076/\n",
            "\n",
            "https://auto.ru/cars/used/sale/toyota/camry/1103341615-eae64d5c/\n",
            "\n",
            "https://auto.ru/cars/used/sale/vaz/vesta/1103175329-f7a7a488/\n",
            "\n",
            "https://auto.ru/cars/used/sale/kia/soul/1103175039-c975fd1b/\n",
            "\n",
            "https://auto.ru/cars/used/sale/kia/rio/1103174936-fda27560/\n",
            "\n"
          ],
          "name": "stdout"
        }
      ]
    },
    {
      "cell_type": "code",
      "metadata": {
        "id": "_8B9GEqiKPDH"
      },
      "source": [
        "# concat all files into \n",
        "read_csv = glob.glob(\"/content/drive/MyDrive/Project/*.csv\")\n",
        "df = pd.DataFrame()\n",
        "for csv in read_csv:\n",
        "    df1 = pd.read_csv(csv, header=None)\n",
        "    df = pd.concat([df,df1])\n",
        "df.columns =['url', 'brand', 'model', 'year', 'mileage', 'body_type', 'color', 'engine_volume', 'horsepower', 'flue_type', 'tax', 'transmission', 'drive', 'whell', 'state', 'owners', 'pts', 'customs', 'price']"
      ],
      "execution_count": null,
      "outputs": []
    },
    {
      "cell_type": "code",
      "metadata": {
        "colab": {
          "base_uri": "https://localhost:8080/",
          "height": 779
        },
        "id": "W0XghyigLjqH",
        "outputId": "8a7ee3a0-645a-4ace-b2dd-4d157d4a7640"
      },
      "source": [
        "df"
      ],
      "execution_count": null,
      "outputs": [
        {
          "output_type": "execute_result",
          "data": {
            "text/html": [
              "<div>\n",
              "<style scoped>\n",
              "    .dataframe tbody tr th:only-of-type {\n",
              "        vertical-align: middle;\n",
              "    }\n",
              "\n",
              "    .dataframe tbody tr th {\n",
              "        vertical-align: top;\n",
              "    }\n",
              "\n",
              "    .dataframe thead th {\n",
              "        text-align: right;\n",
              "    }\n",
              "</style>\n",
              "<table border=\"1\" class=\"dataframe\">\n",
              "  <thead>\n",
              "    <tr style=\"text-align: right;\">\n",
              "      <th></th>\n",
              "      <th>url</th>\n",
              "      <th>brand</th>\n",
              "      <th>model</th>\n",
              "      <th>year</th>\n",
              "      <th>mileage</th>\n",
              "      <th>body_type</th>\n",
              "      <th>color</th>\n",
              "      <th>engine_volume</th>\n",
              "      <th>horsepower</th>\n",
              "      <th>flue_type</th>\n",
              "      <th>tax</th>\n",
              "      <th>transmission</th>\n",
              "      <th>drive</th>\n",
              "      <th>whell</th>\n",
              "      <th>state</th>\n",
              "      <th>owners</th>\n",
              "      <th>pts</th>\n",
              "      <th>customs</th>\n",
              "      <th>price</th>\n",
              "    </tr>\n",
              "  </thead>\n",
              "  <tbody>\n",
              "    <tr>\n",
              "      <th>0</th>\n",
              "      <td>https://auto.ru/cars/used/sale/kia/sorento/110...</td>\n",
              "      <td>kia</td>\n",
              "      <td>sorento</td>\n",
              "      <td>2018</td>\n",
              "      <td>34000км</td>\n",
              "      <td>внедорожник 5 дв.</td>\n",
              "      <td>синий</td>\n",
              "      <td>2.2 л</td>\n",
              "      <td>200л.с.</td>\n",
              "      <td>Дизель</td>\n",
              "      <td>10000₽ / год</td>\n",
              "      <td>автоматическая</td>\n",
              "      <td>полный</td>\n",
              "      <td>Левый</td>\n",
              "      <td>Не требует ремонта</td>\n",
              "      <td>1</td>\n",
              "      <td>Оригинал</td>\n",
              "      <td>Растаможен</td>\n",
              "      <td>2360000₽</td>\n",
              "    </tr>\n",
              "    <tr>\n",
              "      <th>1</th>\n",
              "      <td>https://auto.ru/cars/used/sale/hyundai/creta/1...</td>\n",
              "      <td>hyundai</td>\n",
              "      <td>creta</td>\n",
              "      <td>2018</td>\n",
              "      <td>69000км</td>\n",
              "      <td>внедорожник 5 дв.</td>\n",
              "      <td>чёрный</td>\n",
              "      <td>2.0 л</td>\n",
              "      <td>149л.с.</td>\n",
              "      <td>Бензин</td>\n",
              "      <td>1043₽ / год</td>\n",
              "      <td>автоматическая</td>\n",
              "      <td>передний</td>\n",
              "      <td>Левый</td>\n",
              "      <td>Не требует ремонта</td>\n",
              "      <td>1</td>\n",
              "      <td>Оригинал</td>\n",
              "      <td>Растаможен</td>\n",
              "      <td>1249000₽</td>\n",
              "    </tr>\n",
              "    <tr>\n",
              "      <th>2</th>\n",
              "      <td>https://auto.ru/cars/used/sale/infiniti/qx80/1...</td>\n",
              "      <td>infiniti</td>\n",
              "      <td>qx80</td>\n",
              "      <td>2018</td>\n",
              "      <td>59400км</td>\n",
              "      <td>внедорожник 5 дв.</td>\n",
              "      <td>синий</td>\n",
              "      <td>5.6 л</td>\n",
              "      <td>405л.с.</td>\n",
              "      <td>Бензин</td>\n",
              "      <td>60750₽ / год</td>\n",
              "      <td>автоматическая</td>\n",
              "      <td>полный</td>\n",
              "      <td>Левый</td>\n",
              "      <td>Не требует ремонта</td>\n",
              "      <td>1</td>\n",
              "      <td>Оригинал</td>\n",
              "      <td>Растаможен</td>\n",
              "      <td>4800000₽</td>\n",
              "    </tr>\n",
              "    <tr>\n",
              "      <th>3</th>\n",
              "      <td>https://auto.ru/cars/used/sale/chevrolet/trave...</td>\n",
              "      <td>chevrolet</td>\n",
              "      <td>traverse</td>\n",
              "      <td>2018</td>\n",
              "      <td>7696км</td>\n",
              "      <td>внедорожник 5 дв.</td>\n",
              "      <td>чёрный</td>\n",
              "      <td>3.6 л</td>\n",
              "      <td>318л.с.</td>\n",
              "      <td>Бензин</td>\n",
              "      <td>47700₽ / год</td>\n",
              "      <td>автоматическая</td>\n",
              "      <td>полный</td>\n",
              "      <td>Левый</td>\n",
              "      <td>Не требует ремонта</td>\n",
              "      <td>1</td>\n",
              "      <td>Оригинал</td>\n",
              "      <td>Растаможен</td>\n",
              "      <td>3290000₽</td>\n",
              "    </tr>\n",
              "    <tr>\n",
              "      <th>4</th>\n",
              "      <td>https://auto.ru/cars/used/sale/volkswagen/tera...</td>\n",
              "      <td>volkswagen</td>\n",
              "      <td>teramont</td>\n",
              "      <td>2018</td>\n",
              "      <td>40380км</td>\n",
              "      <td>внедорожник 5 дв.</td>\n",
              "      <td>чёрный</td>\n",
              "      <td>2.0 л</td>\n",
              "      <td>220л.с.</td>\n",
              "      <td>Бензин</td>\n",
              "      <td>14300₽ / год</td>\n",
              "      <td>автоматическая</td>\n",
              "      <td>полный</td>\n",
              "      <td>Левый</td>\n",
              "      <td>Не требует ремонта</td>\n",
              "      <td>1</td>\n",
              "      <td>Оригинал</td>\n",
              "      <td>Растаможен</td>\n",
              "      <td>3650000₽</td>\n",
              "    </tr>\n",
              "    <tr>\n",
              "      <th>...</th>\n",
              "      <td>...</td>\n",
              "      <td>...</td>\n",
              "      <td>...</td>\n",
              "      <td>...</td>\n",
              "      <td>...</td>\n",
              "      <td>...</td>\n",
              "      <td>...</td>\n",
              "      <td>...</td>\n",
              "      <td>...</td>\n",
              "      <td>...</td>\n",
              "      <td>...</td>\n",
              "      <td>...</td>\n",
              "      <td>...</td>\n",
              "      <td>...</td>\n",
              "      <td>...</td>\n",
              "      <td>...</td>\n",
              "      <td>...</td>\n",
              "      <td>...</td>\n",
              "      <td>...</td>\n",
              "    </tr>\n",
              "    <tr>\n",
              "      <th>1785</th>\n",
              "      <td>https://auto.ru/cars/used/sale/volkswagen/pass...</td>\n",
              "      <td>volkswagen</td>\n",
              "      <td>passat</td>\n",
              "      <td>2016</td>\n",
              "      <td>21713км</td>\n",
              "      <td>универсал 5 дв.</td>\n",
              "      <td>белый</td>\n",
              "      <td>1.8 л</td>\n",
              "      <td>180л.с.</td>\n",
              "      <td>Бензин</td>\n",
              "      <td>9000₽ / год</td>\n",
              "      <td>роботизированная</td>\n",
              "      <td>передний</td>\n",
              "      <td>Левый</td>\n",
              "      <td>Не требует ремонта</td>\n",
              "      <td>2</td>\n",
              "      <td>Оригинал</td>\n",
              "      <td>Растаможен</td>\n",
              "      <td>1729000₽</td>\n",
              "    </tr>\n",
              "    <tr>\n",
              "      <th>1786</th>\n",
              "      <td>https://auto.ru/cars/used/sale/audi/q7/1102983...</td>\n",
              "      <td>audi</td>\n",
              "      <td>q7</td>\n",
              "      <td>2016</td>\n",
              "      <td>133248км</td>\n",
              "      <td>внедорожник 5 дв.</td>\n",
              "      <td>синий</td>\n",
              "      <td>3.0 л</td>\n",
              "      <td>249л.с.</td>\n",
              "      <td>Дизель</td>\n",
              "      <td>18675₽ / год</td>\n",
              "      <td>автоматическая</td>\n",
              "      <td>полный</td>\n",
              "      <td>Левый</td>\n",
              "      <td>Не требует ремонта</td>\n",
              "      <td>2</td>\n",
              "      <td>Оригинал</td>\n",
              "      <td>Растаможен</td>\n",
              "      <td>2939000₽</td>\n",
              "    </tr>\n",
              "    <tr>\n",
              "      <th>1787</th>\n",
              "      <td>https://auto.ru/cars/used/sale/mercedes/glc_co...</td>\n",
              "      <td>mercedes</td>\n",
              "      <td>glc_coupe</td>\n",
              "      <td>2016</td>\n",
              "      <td>49506км</td>\n",
              "      <td>внедорожник 5 дв.</td>\n",
              "      <td>белый</td>\n",
              "      <td>2.0 л</td>\n",
              "      <td>211л.с.</td>\n",
              "      <td>Бензин</td>\n",
              "      <td>13715₽ / год</td>\n",
              "      <td>автоматическая</td>\n",
              "      <td>полный</td>\n",
              "      <td>Левый</td>\n",
              "      <td>Не требует ремонта</td>\n",
              "      <td>1</td>\n",
              "      <td>Оригинал</td>\n",
              "      <td>Растаможен</td>\n",
              "      <td>3091875₽</td>\n",
              "    </tr>\n",
              "    <tr>\n",
              "      <th>1788</th>\n",
              "      <td>https://auto.ru/cars/used/sale/audi/q7/1103303...</td>\n",
              "      <td>audi</td>\n",
              "      <td>q7</td>\n",
              "      <td>2016</td>\n",
              "      <td>120838км</td>\n",
              "      <td>внедорожник 5 дв.</td>\n",
              "      <td>синий</td>\n",
              "      <td>3.0 л</td>\n",
              "      <td>249л.с.</td>\n",
              "      <td>Дизель</td>\n",
              "      <td>18675₽ / год</td>\n",
              "      <td>автоматическая</td>\n",
              "      <td>полный</td>\n",
              "      <td>Левый</td>\n",
              "      <td>Не требует ремонта</td>\n",
              "      <td>1</td>\n",
              "      <td>Оригинал</td>\n",
              "      <td>Растаможен</td>\n",
              "      <td>3249000₽</td>\n",
              "    </tr>\n",
              "    <tr>\n",
              "      <th>1789</th>\n",
              "      <td>https://auto.ru/cars/used/sale/land_rover/rang...</td>\n",
              "      <td>land_rover</td>\n",
              "      <td>range_rover</td>\n",
              "      <td>2016</td>\n",
              "      <td>60753км</td>\n",
              "      <td>внедорожник 5 дв.</td>\n",
              "      <td>синий</td>\n",
              "      <td>5.0 л</td>\n",
              "      <td>510л.с.</td>\n",
              "      <td>Бензин</td>\n",
              "      <td>76500₽ / год</td>\n",
              "      <td>автоматическая</td>\n",
              "      <td>полный</td>\n",
              "      <td>Левый</td>\n",
              "      <td>Не требует ремонта</td>\n",
              "      <td>1</td>\n",
              "      <td>Оригинал</td>\n",
              "      <td>Растаможен</td>\n",
              "      <td>5099000₽</td>\n",
              "    </tr>\n",
              "  </tbody>\n",
              "</table>\n",
              "<p>8716 rows × 19 columns</p>\n",
              "</div>"
            ],
            "text/plain": [
              "                                                    url  ...     price\n",
              "0     https://auto.ru/cars/used/sale/kia/sorento/110...  ...  2360000₽\n",
              "1     https://auto.ru/cars/used/sale/hyundai/creta/1...  ...  1249000₽\n",
              "2     https://auto.ru/cars/used/sale/infiniti/qx80/1...  ...  4800000₽\n",
              "3     https://auto.ru/cars/used/sale/chevrolet/trave...  ...  3290000₽\n",
              "4     https://auto.ru/cars/used/sale/volkswagen/tera...  ...  3650000₽\n",
              "...                                                 ...  ...       ...\n",
              "1785  https://auto.ru/cars/used/sale/volkswagen/pass...  ...  1729000₽\n",
              "1786  https://auto.ru/cars/used/sale/audi/q7/1102983...  ...  2939000₽\n",
              "1787  https://auto.ru/cars/used/sale/mercedes/glc_co...  ...  3091875₽\n",
              "1788  https://auto.ru/cars/used/sale/audi/q7/1103303...  ...  3249000₽\n",
              "1789  https://auto.ru/cars/used/sale/land_rover/rang...  ...  5099000₽\n",
              "\n",
              "[8716 rows x 19 columns]"
            ]
          },
          "metadata": {
            "tags": []
          },
          "execution_count": 11
        }
      ]
    },
    {
      "cell_type": "markdown",
      "metadata": {
        "id": "HhQWo1zKRhMo"
      },
      "source": [
        "# Data preprocessing"
      ]
    },
    {
      "cell_type": "code",
      "metadata": {
        "id": "VeboTAigRCbR"
      },
      "source": [
        "data = df.copy()\n",
        "data.mileage = data.mileage.apply(lambda x: x[:-2])\n",
        "data.body_type = data.body_type.apply(lambda x: x+' 4')\n",
        "data['numberOfDoors'] = data.body_type.apply(lambda x: x.split()[1])\n",
        "data.body_type = data.body_type.apply(lambda x: x.split()[0])\n",
        "data.engine_volume = data.engine_volume.apply(lambda x: x.split()[0])\n",
        "data.horsepower = data.horsepower.apply(lambda x: x[:-4])\n",
        "data.flue_type = data.flue_type.apply(lambda x: x.split(',')[0])\n",
        "data.price = data.price.apply(lambda x: x[:-1])\n",
        "# numbers of doors\n",
        "for i in data[data.numberOfDoors=='открытый'].index:\n",
        "    data.at[i, 'numberOfDoors']=3\n",
        "\n",
        "for feature in ['mileage', 'horsepower', 'numberOfDoors']:\n",
        "    data[feature]=data[feature].astype('int32')"
      ],
      "execution_count": null,
      "outputs": []
    },
    {
      "cell_type": "code",
      "metadata": {
        "colab": {
          "base_uri": "https://localhost:8080/",
          "height": 606
        },
        "id": "PQ9vYwo2R07U",
        "outputId": "30568af9-88b9-4514-8693-3b39e5b82438"
      },
      "source": [
        "from matplotlib.pyplot import figure\n",
        "figure(figsize=(12, 8), dpi=80)\n",
        "\n",
        "data.brand.hist(bins = 90,xrot = 90)"
      ],
      "execution_count": null,
      "outputs": [
        {
          "output_type": "execute_result",
          "data": {
            "text/plain": [
              "<matplotlib.axes._subplots.AxesSubplot at 0x7f8414b75310>"
            ]
          },
          "metadata": {
            "tags": []
          },
          "execution_count": 13
        },
        {
          "output_type": "display_data",
          "data": {
            "image/png": "[encoded data removed]",
            "text/plain": [
              "<Figure size 960x640 with 1 Axes>"
            ]
          },
          "metadata": {
            "tags": [],
            "needs_background": "light"
          }
        }
      ]
    },
    {
      "cell_type": "code",
      "metadata": {
        "colab": {
          "base_uri": "https://localhost:8080/",
          "height": 311
        },
        "id": "3APZFocFSoRz",
        "outputId": "c2511dc1-b6c1-4945-d36a-04bf0d472ff8"
      },
      "source": [
        "data.flue_type.hist(xrot=90)"
      ],
      "execution_count": null,
      "outputs": [
        {
          "output_type": "execute_result",
          "data": {
            "text/plain": [
              "<matplotlib.axes._subplots.AxesSubplot at 0x7f8414c6c310>"
            ]
          },
          "metadata": {
            "tags": []
          },
          "execution_count": 14
        },
        {
          "output_type": "display_data",
          "data": {
            "image/png": "[encoded data removed]",
            "text/plain": [
              "<Figure size 432x288 with 1 Axes>"
            ]
          },
          "metadata": {
            "tags": [],
            "needs_background": "light"
          }
        }
      ]
    },
    {
      "cell_type": "code",
      "metadata": {
        "colab": {
          "base_uri": "https://localhost:8080/"
        },
        "id": "UrqTH78lNWKQ",
        "outputId": "bdb63f99-c4f3-4460-bd3a-e3181a49247b"
      },
      "source": [
        "data.info()"
      ],
      "execution_count": null,
      "outputs": [
        {
          "output_type": "stream",
          "text": [
            "<class 'pandas.core.frame.DataFrame'>\n",
            "Int64Index: 8716 entries, 0 to 1789\n",
            "Data columns (total 20 columns):\n",
            " #   Column         Non-Null Count  Dtype \n",
            "---  ------         --------------  ----- \n",
            " 0   url            8716 non-null   object\n",
            " 1   brand          8716 non-null   object\n",
            " 2   model          8716 non-null   object\n",
            " 3   year           8716 non-null   int64 \n",
            " 4   mileage        8716 non-null   int32 \n",
            " 5   body_type      8716 non-null   object\n",
            " 6   color          8716 non-null   object\n",
            " 7   engine_volume  8716 non-null   object\n",
            " 8   horsepower     8716 non-null   int32 \n",
            " 9   flue_type      8716 non-null   object\n",
            " 10  tax            8716 non-null   object\n",
            " 11  transmission   8716 non-null   object\n",
            " 12  drive          8716 non-null   object\n",
            " 13  whell          8716 non-null   object\n",
            " 14  state          8716 non-null   object\n",
            " 15  owners         8716 non-null   int64 \n",
            " 16  pts            8716 non-null   object\n",
            " 17  customs        8716 non-null   object\n",
            " 18  price          8716 non-null   object\n",
            " 19  numberOfDoors  8716 non-null   int32 \n",
            "dtypes: int32(3), int64(2), object(15)\n",
            "memory usage: 1.3+ MB\n"
          ],
          "name": "stdout"
        }
      ]
    },
    {
      "cell_type": "code",
      "metadata": {
        "colab": {
          "base_uri": "https://localhost:8080/",
          "height": 282
        },
        "id": "WYnd4vE3bfci",
        "outputId": "ddffbb40-c84e-43b4-eccb-5ef7226e18e3"
      },
      "source": [
        "import matplotlib.pyplot as plt\n",
        "plt.plot(data.mileage,'+')"
      ],
      "execution_count": null,
      "outputs": [
        {
          "output_type": "execute_result",
          "data": {
            "text/plain": [
              "[<matplotlib.lines.Line2D at 0x7f84148efad0>]"
            ]
          },
          "metadata": {
            "tags": []
          },
          "execution_count": 17
        },
        {
          "output_type": "display_data",
          "data": {
            "image/png": "[encoded data removed]",
            "text/plain": [
              "<Figure size 432x288 with 1 Axes>"
            ]
          },
          "metadata": {
            "tags": [],
            "needs_background": "light"
          }
        }
      ]
    },
    {
      "cell_type": "code",
      "metadata": {
        "colab": {
          "base_uri": "https://localhost:8080/",
          "height": 282
        },
        "id": "6ZmcI4hISvq2",
        "outputId": "7ca6a5fc-49b0-4f3e-cc58-50a6f98ee23c"
      },
      "source": [
        "data.year.hist(bins =15)"
      ],
      "execution_count": null,
      "outputs": [
        {
          "output_type": "execute_result",
          "data": {
            "text/plain": [
              "<matplotlib.axes._subplots.AxesSubplot at 0x7f84148f2cd0>"
            ]
          },
          "metadata": {
            "tags": []
          },
          "execution_count": 18
        },
        {
          "output_type": "display_data",
          "data": {
            "image/png": "[encoded data removed]",
            "text/plain": [
              "<Figure size 432x288 with 1 Axes>"
            ]
          },
          "metadata": {
            "tags": [],
            "needs_background": "light"
          }
        }
      ]
    },
    {
      "cell_type": "code",
      "metadata": {
        "colab": {
          "base_uri": "https://localhost:8080/",
          "height": 282
        },
        "id": "QGITpQH1THSo",
        "outputId": "e3067940-2395-4968-ee93-e169318f0a51"
      },
      "source": [
        "data.transmission.sort_values().hist()"
      ],
      "execution_count": null,
      "outputs": [
        {
          "output_type": "execute_result",
          "data": {
            "text/plain": [
              "<matplotlib.axes._subplots.AxesSubplot at 0x7f8413d25550>"
            ]
          },
          "metadata": {
            "tags": []
          },
          "execution_count": 19
        },
        {
          "output_type": "display_data",
          "data": {
            "image/png": "[encoded data removed]",
            "text/plain": [
              "<Figure size 432x288 with 1 Axes>"
            ]
          },
          "metadata": {
            "tags": [],
            "needs_background": "light"
          }
        }
      ]
    },
    {
      "cell_type": "code",
      "metadata": {
        "colab": {
          "base_uri": "https://localhost:8080/",
          "height": 341
        },
        "id": "-0-Pa4edTIG6",
        "outputId": "f0f547ab-6d62-4f2d-b81a-cc22ab3f6500"
      },
      "source": [
        "data.color.sort_values().hist(xrot=90)"
      ],
      "execution_count": null,
      "outputs": [
        {
          "output_type": "execute_result",
          "data": {
            "text/plain": [
              "<matplotlib.axes._subplots.AxesSubplot at 0x7f8413fecd10>"
            ]
          },
          "metadata": {
            "tags": []
          },
          "execution_count": 20
        },
        {
          "output_type": "display_data",
          "data": {
            "image/png": "[encoded data removed]",
            "text/plain": [
              "<Figure size 432x288 with 1 Axes>"
            ]
          },
          "metadata": {
            "tags": [],
            "needs_background": "light"
          }
        }
      ]
    },
    {
      "cell_type": "code",
      "metadata": {
        "colab": {
          "base_uri": "https://localhost:8080/",
          "height": 344
        },
        "id": "4S0ER6PQTM46",
        "outputId": "10ca1054-d75d-4f1e-d454-dfd906c67c28"
      },
      "source": [
        "data.body_type.sort_values().hist(xrot=90)"
      ],
      "execution_count": null,
      "outputs": [
        {
          "output_type": "execute_result",
          "data": {
            "text/plain": [
              "<matplotlib.axes._subplots.AxesSubplot at 0x7f8414c35750>"
            ]
          },
          "metadata": {
            "tags": []
          },
          "execution_count": 21
        },
        {
          "output_type": "display_data",
          "data": {
            "image/png": "[encoded data removed]",
            "text/plain": [
              "<Figure size 432x288 with 1 Axes>"
            ]
          },
          "metadata": {
            "tags": [],
            "needs_background": "light"
          }
        }
      ]
    },
    {
      "cell_type": "code",
      "metadata": {
        "colab": {
          "base_uri": "https://localhost:8080/",
          "height": 282
        },
        "id": "ogyYu3qvF10t",
        "outputId": "46ac7a58-737d-48a9-9e95-6e2e2722805b"
      },
      "source": [
        "data.horsepower.sort_values().hist()"
      ],
      "execution_count": null,
      "outputs": [
        {
          "output_type": "execute_result",
          "data": {
            "text/plain": [
              "<matplotlib.axes._subplots.AxesSubplot at 0x7f8415752e10>"
            ]
          },
          "metadata": {
            "tags": []
          },
          "execution_count": 22
        },
        {
          "output_type": "display_data",
          "data": {
            "image/png": "[encoded data removed]",
            "text/plain": [
              "<Figure size 432x288 with 1 Axes>"
            ]
          },
          "metadata": {
            "tags": [],
            "needs_background": "light"
          }
        }
      ]
    },
    {
      "cell_type": "code",
      "metadata": {
        "colab": {
          "base_uri": "https://localhost:8080/",
          "height": 558
        },
        "id": "fP09r7QjTfWM",
        "outputId": "a7462019-c887-49ba-b74d-c55d51b98fb5"
      },
      "source": [
        "figure(figsize=(12, 8), dpi=80)\n",
        "data.engine_volume.sort_values().hist(xrot=90)"
      ],
      "execution_count": null,
      "outputs": [
        {
          "output_type": "execute_result",
          "data": {
            "text/plain": [
              "<matplotlib.axes._subplots.AxesSubplot at 0x7f8415400350>"
            ]
          },
          "metadata": {
            "tags": []
          },
          "execution_count": 23
        },
        {
          "output_type": "display_data",
          "data": {
            "image/png": "[encoded data removed]",
            "text/plain": [
              "<Figure size 960x640 with 1 Axes>"
            ]
          },
          "metadata": {
            "tags": [],
            "needs_background": "light"
          }
        }
      ]
    }
  ]
}